{
 "cells": [
  {
   "cell_type": "code",
   "execution_count": 2,
   "metadata": {},
   "outputs": [
    {
     "ename": "SyntaxError",
     "evalue": "invalid syntax (<ipython-input-2-3842ef2edec1>, line 7)",
     "output_type": "error",
     "traceback": [
      "\u001b[1;36m  File \u001b[1;32m\"<ipython-input-2-3842ef2edec1>\"\u001b[1;36m, line \u001b[1;32m7\u001b[0m\n\u001b[1;33m    <div title=\"Restaurents\">Hyderabad House</div>\u001b[0m\n\u001b[1;37m    ^\u001b[0m\n\u001b[1;31mSyntaxError\u001b[0m\u001b[1;31m:\u001b[0m invalid syntax\n"
     ]
    }
   ],
   "source": [
    "from lxml import html\n",
    "import requests\n",
    "URL= 'https://www.yelp.com/biz/hyderabad-house-houston-2'\n",
    "page = requests.get('URL')\n",
    "soup = BeautifulSoup(page.text, 'html5lib')\n",
    "tree = html.fromstring(page.content)\n",
    "<div title=\"Restaurents\">Hyderabad_House</div>\n",
    "<span class=\"HomeServices\">delivery</span>\n",
    "buyers = tree.xpath('//div[@title=\"Restaurents\"]/text()')\n",
    "prices = tree.xpath('//span[@class=\"HomeServices\"]/text()')"
   ]
  },
  {
   "cell_type": "code",
   "execution_count": null,
   "metadata": {},
   "outputs": [],
   "source": []
  }
 ],
 "metadata": {
  "kernelspec": {
   "display_name": "Python 3",
   "language": "python",
   "name": "python3"
  },
  "language_info": {
   "codemirror_mode": {
    "name": "ipython",
    "version": 3
   },
   "file_extension": ".py",
   "mimetype": "text/x-python",
   "name": "python",
   "nbconvert_exporter": "python",
   "pygments_lexer": "ipython3",
   "version": "3.7.3"
  }
 },
 "nbformat": 4,
 "nbformat_minor": 2
}
